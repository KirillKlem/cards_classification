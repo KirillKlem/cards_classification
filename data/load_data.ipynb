{
 "cells": [
  {
   "cell_type": "code",
   "execution_count": 15,
   "id": "e9e85c27-560f-496e-bc47-4569ff3064c4",
   "metadata": {},
   "outputs": [],
   "source": [
    "import os\n",
    "import kaggle\n",
    "import tensorflow as tf\n",
    "import numpy as np\n",
    "\n",
    "from tensorflow import keras"
   ]
  },
  {
   "cell_type": "code",
   "execution_count": 3,
   "id": "bb5ab2dc-f78e-4a3d-ae53-903e7dd26070",
   "metadata": {},
   "outputs": [
    {
     "name": "stdout",
     "output_type": "stream",
     "text": [
      "Dataset URL: https://www.kaggle.com/datasets/gpiosenka/cards-image-datasetclassification\n"
     ]
    }
   ],
   "source": [
    "# Specify the name of the dataset and the target folder\n",
    "dataset = 'gpiosenka/cards-image-datasetclassification'  #https://www.kaggle.com/datasets/gpiosenka/cards-image-datasetclassification\n",
    "destination_folder = 'data'\n",
    "\n",
    "# Create the target folder if not exists\n",
    "os.makedirs(destination_folder, exist_ok=True)\n",
    "\n",
    "# Download dataset\n",
    "kaggle.api.dataset_download_files(dataset, path=destination_folder, unzip=True)"
   ]
  },
  {
   "cell_type": "code",
   "execution_count": 8,
   "id": "b1a6534b-0fcb-4eef-86f9-a5d6ab11ac74",
   "metadata": {},
   "outputs": [],
   "source": [
    "#Clear the data from unnecessary \n",
    "unnecessary_files = ['data/14card types-14-(200 X 200)-94.61.h5',\n",
    "                     'data/53cards-53-(200 X 200)-100.00.h5']\n",
    "for f in unnecessary_files:\n",
    "    if os.path.exists(f):\n",
    "        os.remove(f)"
   ]
  },
  {
   "cell_type": "code",
   "execution_count": 13,
   "id": "7d7b3eba-5314-4660-a05d-f89b8bf65510",
   "metadata": {},
   "outputs": [
    {
     "name": "stdout",
     "output_type": "stream",
     "text": [
      "Found 7624 files belonging to 53 classes.\n",
      "Found 265 files belonging to 53 classes.\n",
      "Found 265 files belonging to 53 classes.\n"
     ]
    }
   ],
   "source": [
    "#Check batch_size=16 and more\n",
    "train_ds = keras.preprocessing.image_dataset_from_directory(\n",
    "    'data/train',\n",
    "    label_mode='categorical',\n",
    "    seed=123,\n",
    "    image_size=(224, 224),\n",
    "    batch_size=8,\n",
    "    shuffle=True\n",
    ")\n",
    "\n",
    "val_ds = keras.preprocessing.image_dataset_from_directory(\n",
    "    'data/valid',\n",
    "    label_mode='categorical',\n",
    "    seed=123,\n",
    "    image_size=(224, 224),\n",
    "    batch_size=8,\n",
    "    shuffle=True\n",
    ")\n",
    "\n",
    "test_ds = keras.preprocessing.image_dataset_from_directory(\n",
    "    'data/test',\n",
    "    label_mode='categorical',\n",
    "    seed=123,\n",
    "    image_size=(224, 224),\n",
    "    batch_size=8,\n",
    "    shuffle=True\n",
    ")"
   ]
  },
  {
   "cell_type": "code",
   "execution_count": null,
   "id": "5ad6bd21-9b00-45be-9502-6160d2e66ea5",
   "metadata": {},
   "outputs": [],
   "source": []
  }
 ],
 "metadata": {
  "kernelspec": {
   "display_name": "Python 3 (ipykernel)",
   "language": "python",
   "name": "python3"
  },
  "language_info": {
   "codemirror_mode": {
    "name": "ipython",
    "version": 3
   },
   "file_extension": ".py",
   "mimetype": "text/x-python",
   "name": "python",
   "nbconvert_exporter": "python",
   "pygments_lexer": "ipython3",
   "version": "3.11.3"
  }
 },
 "nbformat": 4,
 "nbformat_minor": 5
}
